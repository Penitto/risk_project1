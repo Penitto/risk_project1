{
 "cells": [
  {
   "cell_type": "markdown",
   "metadata": {
    "colab_type": "text",
    "id": "view-in-github"
   },
   "source": [
    "<a href=\"https://colab.research.google.com/github/Penitto/risk_project1/blob/master/Iriski.ipynb\" target=\"_parent\"><img src=\"https://colab.research.google.com/assets/colab-badge.svg\" alt=\"Open In Colab\"/></a>"
   ]
  },
  {
   "cell_type": "markdown",
   "metadata": {
    "colab_type": "text",
    "id": "7qA97MVsS7Bq"
   },
   "source": [
    "# Выделенные риск-факторы\n",
    "\n",
    "1. Фондовый риск — риск снижения цены акций; __индекс РТС и МОЕКС__\n",
    "2. Процентный риск — риск изменения процентных ставок; __процентные ставки__\n",
    "3. Валютный риск — риск изменения курсов валют; __курс доллара и курс юаня__\n",
    "4. Товарный риск — риск изменения цен товаров; __цены на нефть__\n"
   ]
  },
  {
   "cell_type": "markdown",
   "metadata": {
    "colab_type": "text",
    "id": "8M6J22EiTM5O"
   },
   "source": [
    "# Стохастическая модель динамики "
   ]
  },
  {
   "cell_type": "code",
   "execution_count": 2,
   "metadata": {
    "colab_type": "text",
    "id": "8M6J22EiTM5O"
   },
   "outputs": [],
   "source": [
    "import numpy as np\n",
    "import pandas as pd\n",
    "import os\n",
    "from scipy.interpolate import CubicSpline"
   ]
  },
  {
   "cell_type": "code",
   "execution_count": 79,
   "metadata": {
    "colab_type": "text",
    "id": "8M6J22EiTM5O"
   },
   "outputs": [],
   "source": [
    "class Portfolio():\n",
    "    def __init__(self, bonds, shares, cur):\n",
    "        self.bonds = bonds\n",
    "        self.shares = shares\n",
    "        self.cur = cur\n",
    "        self.price = 0\n",
    "        \n",
    "    # Посчитать цену портфеля в определённый день\n",
    "    def countPriceInDate(self, date):\n",
    "        pass\n",
    "        \n",
    "    # Посчитать объём портфеля в уе\n",
    "    def countInitialValue(self):\n",
    "        for i in range(len(self.bonds)):\n",
    "            amount = self.bonds[i][2] / self.bonds[i][1]['<CLOSE>'][0]\n",
    "            self.bonds[i] = (*self.bonds[i], amount)\n",
    "            \n",
    "        for i in range(len(self.shares)):\n",
    "            amount = self.shares[i][2] / self.shares[i][1]['<CLOSE>'][0]\n",
    "            self.shares[i] = (*self.shares[i], amount)\n",
    "            \n",
    "        for i in range(len(self.cur)):\n",
    "            amount = self.cur[i][2] / self.cur[i][1]['<CLOSE>'][0]\n",
    "            self.cur[i] = (*self.cur[i], amount)"
   ]
  },
  {
   "cell_type": "code",
   "execution_count": 91,
   "metadata": {
    "colab_type": "text",
    "id": "8M6J22EiTM5O"
   },
   "outputs": [],
   "source": [
    "# Загрузка данных в класс\n",
    "shares = ['./shares/AFLT_160101_200101.csv', \n",
    "          './shares/GAZP_160101_200101.csv',\n",
    "          './shares/GMKN_160101_200101.csv', \n",
    "          './shares/KMAZ_160101_200101.csv', \n",
    "          './shares/LKOH_160101_200101.csv', \n",
    "          './shares/PIKK_160101_200101.csv', \n",
    "          './shares/MGNT_160101_200101.csv', \n",
    "          './shares/RBCM_160101_200101.csv', \n",
    "          './shares/ROSN_160101_200101.csv', \n",
    "          './shares/SBER_160101_200101.csv']\n",
    "\n",
    "bonds = ['./bonds/SU26205RMFS3_160101_200101.csv',\n",
    "         './bonds/SU26207RMFS9_160101_200101.csv', \n",
    "         './bonds/SU26209RMFS5_160101_200101.csv', \n",
    "         './bonds/SU26211RMFS1_160101_200101.csv', \n",
    "         './bonds/SU26212RMFS9_160101_200101.csv']\n",
    "\n",
    "currencies = ['./index/USDCB_160101_200101.csv', './index/CNYCB_160101_200101.csv']\n",
    "\n",
    "days = 1010\n",
    "\n",
    "shares = {i: pd.read_csv(i) for i in shares}\n",
    "bonds = {i: pd.read_csv(i) for i in bonds}\n",
    "currencies = {i: pd.read_csv(i) for i in currencies}\n",
    "\n",
    "tmp = []\n",
    "for i in bonds:\n",
    "    tmp.append((i, pd.read_csv(i).drop(['<TICKER>', '<PER>', '<TIME>', '<HIGH>', '<LOW>', '<VOL>'], axis=1), 10.**7))\n",
    "bonds = tmp.copy()\n",
    "\n",
    "tmp = []\n",
    "for i in currencies:\n",
    "    tmp.append((i, pd.read_csv(i).drop(['<TICKER>', '<PER>', '<TIME>', '<HIGH>', '<LOW>', '<VOL>'], axis=1), 10.**7))\n",
    "currencies = tmp.copy()\n",
    "\n",
    "tmp = []\n",
    "for i in shares:\n",
    "    tmp.append((i, pd.read_csv(i).drop(['<TICKER>', '<PER>', '<TIME>', '<HIGH>', '<LOW>', '<VOL>'], axis=1), 10.**6))\n",
    "shares = tmp.copy()\n",
    "\n",
    "port = Portfolio(bonds, shares, currencies)\n",
    "port.countInitialValue()"
   ]
  },
  {
   "cell_type": "code",
   "execution_count": null,
   "metadata": {
    "colab_type": "text",
    "id": "8M6J22EiTM5O"
   },
   "outputs": [],
   "source": []
  },
  {
   "cell_type": "code",
   "execution_count": 93,
   "metadata": {
    "colab_type": "text",
    "id": "8M6J22EiTM5O"
   },
   "outputs": [
    {
     "name": "stdout",
     "output_type": "stream",
     "text": [
      "1008\n",
      "1010\n",
      "1008\n",
      "1006\n",
      "1010\n"
     ]
    }
   ],
   "source": [
    "for i in port.bonds:\n",
    "    print(len(i[1]))"
   ]
  },
  {
   "cell_type": "code",
   "execution_count": 11,
   "metadata": {
    "colab_type": "text",
    "id": "8M6J22EiTM5O"
   },
   "outputs": [
    {
     "data": {
      "text/html": [
       "<div>\n",
       "<style scoped>\n",
       "    .dataframe tbody tr th:only-of-type {\n",
       "        vertical-align: middle;\n",
       "    }\n",
       "\n",
       "    .dataframe tbody tr th {\n",
       "        vertical-align: top;\n",
       "    }\n",
       "\n",
       "    .dataframe thead th {\n",
       "        text-align: right;\n",
       "    }\n",
       "</style>\n",
       "<table border=\"1\" class=\"dataframe\">\n",
       "  <thead>\n",
       "    <tr style=\"text-align: right;\">\n",
       "      <th></th>\n",
       "      <th>&lt;TICKER&gt;</th>\n",
       "      <th>&lt;PER&gt;</th>\n",
       "      <th>&lt;DATE&gt;</th>\n",
       "      <th>&lt;TIME&gt;</th>\n",
       "      <th>&lt;OPEN&gt;</th>\n",
       "      <th>&lt;HIGH&gt;</th>\n",
       "      <th>&lt;LOW&gt;</th>\n",
       "      <th>&lt;CLOSE&gt;</th>\n",
       "      <th>&lt;VOL&gt;</th>\n",
       "    </tr>\n",
       "  </thead>\n",
       "  <tbody>\n",
       "    <tr>\n",
       "      <th>0</th>\n",
       "      <td>RTSI</td>\n",
       "      <td>D</td>\n",
       "      <td>04/01/16</td>\n",
       "      <td>00:00:00</td>\n",
       "      <td>755.16</td>\n",
       "      <td>761.68</td>\n",
       "      <td>741.67</td>\n",
       "      <td>749.28</td>\n",
       "      <td>204806463</td>\n",
       "    </tr>\n",
       "    <tr>\n",
       "      <th>1</th>\n",
       "      <td>RTSI</td>\n",
       "      <td>D</td>\n",
       "      <td>05/01/16</td>\n",
       "      <td>00:00:00</td>\n",
       "      <td>747.94</td>\n",
       "      <td>753.97</td>\n",
       "      <td>743.42</td>\n",
       "      <td>752.70</td>\n",
       "      <td>242929972</td>\n",
       "    </tr>\n",
       "    <tr>\n",
       "      <th>2</th>\n",
       "      <td>RTSI</td>\n",
       "      <td>D</td>\n",
       "      <td>06/01/16</td>\n",
       "      <td>00:00:00</td>\n",
       "      <td>753.06</td>\n",
       "      <td>754.04</td>\n",
       "      <td>735.62</td>\n",
       "      <td>736.82</td>\n",
       "      <td>210962101</td>\n",
       "    </tr>\n",
       "    <tr>\n",
       "      <th>3</th>\n",
       "      <td>RTSI</td>\n",
       "      <td>D</td>\n",
       "      <td>11/01/16</td>\n",
       "      <td>00:00:00</td>\n",
       "      <td>721.68</td>\n",
       "      <td>721.68</td>\n",
       "      <td>699.13</td>\n",
       "      <td>699.13</td>\n",
       "      <td>0</td>\n",
       "    </tr>\n",
       "    <tr>\n",
       "      <th>4</th>\n",
       "      <td>RTSI</td>\n",
       "      <td>D</td>\n",
       "      <td>12/01/16</td>\n",
       "      <td>00:00:00</td>\n",
       "      <td>689.33</td>\n",
       "      <td>706.31</td>\n",
       "      <td>681.46</td>\n",
       "      <td>695.32</td>\n",
       "      <td>0</td>\n",
       "    </tr>\n",
       "  </tbody>\n",
       "</table>\n",
       "</div>"
      ],
      "text/plain": [
       "  <TICKER> <PER>    <DATE>    <TIME>  <OPEN>  <HIGH>   <LOW>  <CLOSE>  \\\n",
       "0     RTSI     D  04/01/16  00:00:00  755.16  761.68  741.67   749.28   \n",
       "1     RTSI     D  05/01/16  00:00:00  747.94  753.97  743.42   752.70   \n",
       "2     RTSI     D  06/01/16  00:00:00  753.06  754.04  735.62   736.82   \n",
       "3     RTSI     D  11/01/16  00:00:00  721.68  721.68  699.13   699.13   \n",
       "4     RTSI     D  12/01/16  00:00:00  689.33  706.31  681.46   695.32   \n",
       "\n",
       "       <VOL>  \n",
       "0  204806463  \n",
       "1  242929972  \n",
       "2  210962101  \n",
       "3          0  \n",
       "4          0  "
      ]
     },
     "execution_count": 11,
     "metadata": {},
     "output_type": "execute_result"
    }
   ],
   "source": [
    "def get_index():\n",
    "    moex_ind = pd.read_csv('./index/IMOEX_160101_200101.csv')\n",
    "    rts_ind = pd.read_csv('./index/RTSI_160101_200101.csv')\n",
    "    zerobond = pd.read_csv('./zerobond.csv', sep=';')\n",
    "    \n",
    "    weeks_in_month = (365/7)*(1/12)\n",
    "    maturity_rub = [3,6,9,12,24,36,60,84,120,180,240,360,]\n",
    "    maturity_rub= [i * weeks_in_month for i in maturity_rub]\n",
    "    \n",
    "    interpolate_rub = CubicSpline(maturity_rub, ds_rate_rub)\n",
    "    \n",
    "    interval_rub = np.arange(0, 54, 2)\n",
    "    \n",
    "    df_rub_int = pd.DataFrame(data={'maturity_rub_2weeks': interval_rub, 'rub_act': interpolate_rub(interval_rub)})\n",
    "    \n",
    "    df_rub_usd_int=pd.concat([df_usd_int, df_rub_int], axis=1, sort=False)\n",
    "    df_rub_usd_int=df_rub_usd_int.drop(['maturity_rub_2weeks'], axis=1)\n",
    "    df_rub_usd_int=df_rub_usd_int.rename(columns={\"maturity_usd_2weeks\":\"maturity\"})\n",
    "    df_rub_usd_int['maturity_frac'] = df_rub_usd_int['maturity']/54\n",
    "\n",
    "    # s=0.0134\n",
    "    s=1/0.01442\n",
    "\n",
    "    new_rates = pd.concat(\n",
    "        [\n",
    "            df_rub_usd_int,\n",
    "            df_rub_usd_int.diff(1).rename(columns={x:x.replace('act','diff') for x in df_rub_usd_int.columns})\n",
    "        ],\n",
    "        axis=1)\n",
    "\n",
    "    new_rates.fillna(0, inplace=True)\n",
    "    new_rates['fx_act']=(s*(1+new_rates['usd_act']*0.01)/(1+new_rates['rub_act']*0.01))\n",
    "    new_rates['fx_diff'] =new_rates['fx_act'].diff()\n",
    "\n",
    "\n",
    "    curve_rub_act = new_rates.loc[1:,'rub_act']\n",
    "    curve_usd_act = new_rates.loc[1:,'usd_act']\n",
    "    curve_fx_act = new_rates.loc[1:,'fx_act']\n",
    "\n",
    "    curve_rub_diff = new_rates.loc[1:,'rub_diff']\n",
    "    curve_usd_diff = new_rates.loc[1:,'usd_diff']\n",
    "    curve_fx_diff = new_rates.loc[1:,'fx_diff']\n",
    "    init = new_rates.loc[0,['rub_act','usd_act','fx_act']]\n",
    "\n",
    "\n",
    "    return  (\n",
    "        curve_rub_act,\n",
    "        curve_usd_act,\n",
    "        curve_fx_act,\n",
    "        curve_rub_diff,\n",
    "        curve_usd_diff,\n",
    "        curve_fx_diff,\n",
    "        init)\n",
    "    \n",
    "    \n",
    "    \n",
    "    \n",
    "    def stoch_wrapper(decomp):\n",
    "        def make_stoch(num):\n",
    "            sigma=[0.03, 0.0093, 0.11]\n",
    "            stoch_generator = np.dot(np.random.normal(size=(num,3)),decomp)*sigma\n",
    "            return stoch_generator\n",
    "        return make_stoch\n",
    "\n",
    "    \n",
    "stoch_generator = stoch_wrapper(get_decomp())\n",
    "\n",
    "def simulate_hull_white(\n",
    "    sim_number = 10,):\n",
    "    rub_alpha=0.03\n",
    "    sigma=[0.03, 0.0093, 0.11]\n",
    "    k_fx=0.015\n",
    "    dt=14/365\n",
    "    timesteps = 26\n",
    "\n",
    "    (\n",
    "        curve_rub,\n",
    "        curve_rub_df,\n",
    "        init\n",
    "        ) = get_rates()\n",
    "\n",
    "\n",
    "    results = np.zeros(shape=(timesteps+1, 3, sim_number))\n",
    "\n",
    "    passed_time=0\n",
    "\n",
    "    for sim_ix in range(sim_number):\n",
    "        results[0, :, sim_ix] = init\n",
    "        stochs = stoch_generator(timesteps+1)\n",
    "        for i, (rate_rub, df_rub, stoch_tuple) in enumerate(zip(curve_rub,curve_rub_df, stochs)):\n",
    "            \n",
    "            passed_time += dt\n",
    "\n",
    "            theta_rub = df_rub + rub_alpha * rate_rub + (sigma[0]**2) * (1 - np.exp(-2 * rub_alpha * passed_time)) / 2 * rub_alpha\n",
    "\n",
    "            results[i + 1, 0, sim_ix] = (theta_rub - rub_alpha* results[:, 0, sim_ix].sum()) * dt + stoch_tuple[0]\n",
    "\n",
    "    return results"
   ]
  },
  {
   "cell_type": "markdown",
   "metadata": {
    "colab_type": "text",
    "id": "Nuu2CulBTbKq"
   },
   "source": [
    "# Оценка справедливой стоимости в зависимости от риск-факторов"
   ]
  },
  {
   "cell_type": "markdown",
   "metadata": {
    "colab_type": "text",
    "id": "kIy-17dsTvKF"
   },
   "source": [
    "# Оценка риска по портфелю"
   ]
  },
  {
   "cell_type": "markdown",
   "metadata": {
    "colab_type": "text",
    "id": "1-JmQH3VTu1-"
   },
   "source": [
    "# Простая количественная валидация"
   ]
  },
  {
   "cell_type": "markdown",
   "metadata": {
    "colab_type": "text",
    "id": "Gmm_ynGtTulX"
   },
   "source": []
  }
 ],
 "metadata": {
  "colab": {
   "authorship_tag": "ABX9TyNiUzQQeOr7Sa5qh1rGaG0r",
   "include_colab_link": true,
   "name": "Iriski.ipynb",
   "provenance": [],
   "toc_visible": true
  },
  "kernelspec": {
   "display_name": "Python 3",
   "language": "python",
   "name": "python3"
  },
  "language_info": {
   "codemirror_mode": {
    "name": "ipython",
    "version": 3
   },
   "file_extension": ".py",
   "mimetype": "text/x-python",
   "name": "python",
   "nbconvert_exporter": "python",
   "pygments_lexer": "ipython3",
   "version": "3.7.5"
  }
 },
 "nbformat": 4,
 "nbformat_minor": 1
}
